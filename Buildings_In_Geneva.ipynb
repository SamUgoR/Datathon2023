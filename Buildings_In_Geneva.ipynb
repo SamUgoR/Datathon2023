{
 "cells": [
  {
   "cell_type": "markdown",
   "id": "2677c71a-ef64-41e9-8b13-b3fb775e9cfc",
   "metadata": {},
   "source": [
    "# Breaking Silos\n",
    "\n",
    "UN Datathon 2023\n",
    "\n",
    "Sources:\n",
    "\n",
    "- [CO2 Emissionen Gebäude](https://www.bafu.admin.ch/bafu/de/home/themen/klima/fachinformationen/verminderungsmassnahmen/gebaeude/co2-rechner-gebaeude.html#accordion1699022038096) (download .CSV format, unzip into the `data` folder)\n"
   ]
  },
  {
   "cell_type": "code",
   "execution_count": 1,
   "id": "09ddc995-3d60-49b9-ac1f-996c5c7f5031",
   "metadata": {},
   "outputs": [],
   "source": [
    "import os\n",
    "import warnings \n",
    "import pandas as pd\n",
    "from pyproj import Proj, transform\n",
    "from matplotlib import pyplot as plt"
   ]
  },
  {
   "cell_type": "code",
   "execution_count": 2,
   "id": "aa0fca8d-c944-4310-af26-882060ef47b6",
   "metadata": {},
   "outputs": [
    {
     "data": {
      "text/plain": [
       "'Loaded: 1790170 rows'"
      ]
     },
     "execution_count": 2,
     "metadata": {},
     "output_type": "execute_result"
    }
   ],
   "source": [
    "F_BUILDINGS = os.path.join('data', 'MAPGEO_GEB_CO2.txt')\n",
    "\n",
    "# Read in the basic dataset\n",
    "df_buildings = pd.read_csv(F_BUILDINGS, header=0, sep='\\t')\n",
    "'Loaded: %d rows' % (len(df_buildings))"
   ]
  },
  {
   "cell_type": "code",
   "execution_count": 3,
   "id": "a0b29278-cb65-420a-bf95-17a656943c7e",
   "metadata": {},
   "outputs": [
    {
     "data": {
      "text/plain": [
       "'Loaded: 1861915 rows'"
      ]
     },
     "execution_count": 3,
     "metadata": {},
     "output_type": "execute_result"
    }
   ],
   "source": [
    "F_ADDRESSES = os.path.join('data', 'MAPGEO_DOM_CO2.txt')\n",
    "\n",
    "# Read in the basic dataset\n",
    "df_addresses = pd.read_csv(F_ADDRESSES, header=0, sep='\\t')\n",
    "'Loaded: %d rows' % (len(df_addresses))"
   ]
  },
  {
   "cell_type": "code",
   "execution_count": 4,
   "id": "d367a0af-ef08-411b-8e82-2fea8d51a3cb",
   "metadata": {},
   "outputs": [
    {
     "data": {
      "text/html": [
       "<div>\n",
       "<style scoped>\n",
       "    .dataframe tbody tr th:only-of-type {\n",
       "        vertical-align: middle;\n",
       "    }\n",
       "\n",
       "    .dataframe tbody tr th {\n",
       "        vertical-align: top;\n",
       "    }\n",
       "\n",
       "    .dataframe thead th {\n",
       "        text-align: right;\n",
       "    }\n",
       "</style>\n",
       "<table border=\"1\" class=\"dataframe\">\n",
       "  <thead>\n",
       "    <tr style=\"text-align: right;\">\n",
       "      <th></th>\n",
       "      <th>EGID</th>\n",
       "      <th>EDID</th>\n",
       "      <th>STRSP</th>\n",
       "      <th>DEXPDAT</th>\n",
       "      <th>STRNAME_DEINR</th>\n",
       "      <th>DPLZ4_DPLZNAME</th>\n",
       "    </tr>\n",
       "  </thead>\n",
       "  <tbody>\n",
       "    <tr>\n",
       "      <th>0</th>\n",
       "      <td>564</td>\n",
       "      <td>0</td>\n",
       "      <td>DE</td>\n",
       "      <td>01.11.2023</td>\n",
       "      <td>Alte Hedingerstrasse 39</td>\n",
       "      <td>8910 Affoltern am Albis</td>\n",
       "    </tr>\n",
       "  </tbody>\n",
       "</table>\n",
       "</div>"
      ],
      "text/plain": [
       "   EGID  EDID STRSP     DEXPDAT            STRNAME_DEINR  \\\n",
       "0   564     0    DE  01.11.2023  Alte Hedingerstrasse 39   \n",
       "\n",
       "            DPLZ4_DPLZNAME  \n",
       "0  8910 Affoltern am Albis  "
      ]
     },
     "execution_count": 4,
     "metadata": {},
     "output_type": "execute_result"
    }
   ],
   "source": [
    "df_addresses.head(1)"
   ]
  },
  {
   "cell_type": "code",
   "execution_count": 5,
   "id": "99e0c043-ad23-458f-b399-ae818d25d5cf",
   "metadata": {},
   "outputs": [
    {
     "data": {
      "text/html": [
       "<div>\n",
       "<style scoped>\n",
       "    .dataframe tbody tr th:only-of-type {\n",
       "        vertical-align: middle;\n",
       "    }\n",
       "\n",
       "    .dataframe tbody tr th {\n",
       "        vertical-align: top;\n",
       "    }\n",
       "\n",
       "    .dataframe thead th {\n",
       "        text-align: right;\n",
       "    }\n",
       "</style>\n",
       "<table border=\"1\" class=\"dataframe\">\n",
       "  <thead>\n",
       "    <tr style=\"text-align: right;\">\n",
       "      <th></th>\n",
       "      <th>EGID</th>\n",
       "      <th>GKODE</th>\n",
       "      <th>GKODN</th>\n",
       "      <th>GSTAT</th>\n",
       "      <th>GKAT</th>\n",
       "      <th>GWAERZH1</th>\n",
       "      <th>GENH1</th>\n",
       "      <th>GWAERSCEH1</th>\n",
       "      <th>CO2_CLASS</th>\n",
       "      <th>CO2_RANGE</th>\n",
       "      <th>GUE20</th>\n",
       "      <th>GEXPDAT</th>\n",
       "    </tr>\n",
       "  </thead>\n",
       "  <tbody>\n",
       "    <tr>\n",
       "      <th>0</th>\n",
       "      <td>11513432</td>\n",
       "      <td>2679649.268</td>\n",
       "      <td>1237500.347</td>\n",
       "      <td>1004</td>\n",
       "      <td>1020</td>\n",
       "      <td>7430.0</td>\n",
       "      <td>7530.0</td>\n",
       "      <td>860.0</td>\n",
       "      <td>7</td>\n",
       "      <td>&gt; 25</td>\n",
       "      <td>1</td>\n",
       "      <td>01.11.2023</td>\n",
       "    </tr>\n",
       "    <tr>\n",
       "      <th>1</th>\n",
       "      <td>11513433</td>\n",
       "      <td>2680637.900</td>\n",
       "      <td>1236936.229</td>\n",
       "      <td>1004</td>\n",
       "      <td>1020</td>\n",
       "      <td>7430.0</td>\n",
       "      <td>7530.0</td>\n",
       "      <td>860.0</td>\n",
       "      <td>7</td>\n",
       "      <td>&gt; 25</td>\n",
       "      <td>1</td>\n",
       "      <td>01.11.2023</td>\n",
       "    </tr>\n",
       "    <tr>\n",
       "      <th>2</th>\n",
       "      <td>11517090</td>\n",
       "      <td>2679018.828</td>\n",
       "      <td>1235828.156</td>\n",
       "      <td>1004</td>\n",
       "      <td>1020</td>\n",
       "      <td>7431.0</td>\n",
       "      <td>7530.0</td>\n",
       "      <td>860.0</td>\n",
       "      <td>7</td>\n",
       "      <td>&gt; 25</td>\n",
       "      <td>1</td>\n",
       "      <td>01.11.2023</td>\n",
       "    </tr>\n",
       "    <tr>\n",
       "      <th>3</th>\n",
       "      <td>1600000</td>\n",
       "      <td>2679679.869</td>\n",
       "      <td>1237453.256</td>\n",
       "      <td>1004</td>\n",
       "      <td>1020</td>\n",
       "      <td>7430.0</td>\n",
       "      <td>7530.0</td>\n",
       "      <td>869.0</td>\n",
       "      <td>7</td>\n",
       "      <td>&gt; 25</td>\n",
       "      <td>1</td>\n",
       "      <td>01.11.2023</td>\n",
       "    </tr>\n",
       "    <tr>\n",
       "      <th>4</th>\n",
       "      <td>1600001</td>\n",
       "      <td>2679694.997</td>\n",
       "      <td>1237491.284</td>\n",
       "      <td>1004</td>\n",
       "      <td>1030</td>\n",
       "      <td>7436.0</td>\n",
       "      <td>7530.0</td>\n",
       "      <td>869.0</td>\n",
       "      <td>7</td>\n",
       "      <td>&gt; 25</td>\n",
       "      <td>0</td>\n",
       "      <td>01.11.2023</td>\n",
       "    </tr>\n",
       "  </tbody>\n",
       "</table>\n",
       "</div>"
      ],
      "text/plain": [
       "       EGID        GKODE        GKODN  GSTAT  GKAT  GWAERZH1   GENH1  \\\n",
       "0  11513432  2679649.268  1237500.347   1004  1020    7430.0  7530.0   \n",
       "1  11513433  2680637.900  1236936.229   1004  1020    7430.0  7530.0   \n",
       "2  11517090  2679018.828  1235828.156   1004  1020    7431.0  7530.0   \n",
       "3   1600000  2679679.869  1237453.256   1004  1020    7430.0  7530.0   \n",
       "4   1600001  2679694.997  1237491.284   1004  1030    7436.0  7530.0   \n",
       "\n",
       "   GWAERSCEH1  CO2_CLASS CO2_RANGE  GUE20     GEXPDAT  \n",
       "0       860.0          7      > 25      1  01.11.2023  \n",
       "1       860.0          7      > 25      1  01.11.2023  \n",
       "2       860.0          7      > 25      1  01.11.2023  \n",
       "3       869.0          7      > 25      1  01.11.2023  \n",
       "4       869.0          7      > 25      0  01.11.2023  "
      ]
     },
     "execution_count": 5,
     "metadata": {},
     "output_type": "execute_result"
    }
   ],
   "source": [
    "# Clean up some columns we're not interested in\n",
    "if 'LINKCO2' in df_buildings:\n",
    "    df_buildings = df_buildings.drop('LINKCO2', axis=1)\n",
    "if 'LINKBAFU' in df_buildings:\n",
    "    df_buildings = df_buildings.drop('LINKBAFU', axis=1)\n",
    "if 'LINKPDF' in df_buildings:\n",
    "    df_buildings = df_buildings.drop('LINKPDF', axis=1)\n",
    "if 'HINWEIS' in df_buildings:\n",
    "    df_buildings = df_buildings.drop('HINWEIS', axis=1)\n",
    "df_buildings.head(5)"
   ]
  },
  {
   "cell_type": "code",
   "execution_count": 6,
   "id": "d16aa3f4-66ff-41ad-9665-590de19930dd",
   "metadata": {},
   "outputs": [
    {
     "data": {
      "text/plain": [
       "1790170"
      ]
     },
     "execution_count": 6,
     "metadata": {},
     "output_type": "execute_result"
    }
   ],
   "source": [
    "len(df_buildings)"
   ]
  },
  {
   "cell_type": "code",
   "execution_count": 7,
   "id": "734f2c24-a015-446f-bbd1-547146175049",
   "metadata": {},
   "outputs": [
    {
     "data": {
      "text/plain": [
       "47708"
      ]
     },
     "execution_count": 7,
     "metadata": {},
     "output_type": "execute_result"
    }
   ],
   "source": [
    "bbox = df_buildings[(df_buildings.GKODE > 2512875.0) | (df_buildings.GKODN > 1131325.0)].index\n",
    "df_geneva = df_buildings.drop(bbox)\n",
    "len(df_geneva)"
   ]
  },
  {
   "cell_type": "code",
   "execution_count": 8,
   "id": "04b9d5c2-b75d-4d14-9d66-b5a2eb29600d",
   "metadata": {},
   "outputs": [
    {
     "data": {
      "text/plain": [
       "(47.284316436317695, 8.491945346821495)"
      ]
     },
     "execution_count": 8,
     "metadata": {},
     "output_type": "execute_result"
    }
   ],
   "source": [
    "# Convert from CH1903+ (EPSG:4150) to WGS84 (EPSG:4326)\n",
    "warnings.filterwarnings('ignore') # yees, we know.. there be dragons ...\n",
    "pWorld = Proj(init='epsg:4326')\n",
    "pCH = Proj(init='epsg:2056')\n",
    "\n",
    "(lon, lat) = transform(pCH, pWorld, 2679684.826, 1237581.429)\n",
    "(lat, lon) # quick test .."
   ]
  },
  {
   "cell_type": "code",
   "execution_count": 19,
   "id": "f83f8ef1-856f-41cf-8374-d69292b31c16",
   "metadata": {},
   "outputs": [
    {
     "data": {
      "text/html": [
       "<div>\n",
       "<style scoped>\n",
       "    .dataframe tbody tr th:only-of-type {\n",
       "        vertical-align: middle;\n",
       "    }\n",
       "\n",
       "    .dataframe tbody tr th {\n",
       "        vertical-align: top;\n",
       "    }\n",
       "\n",
       "    .dataframe thead th {\n",
       "        text-align: right;\n",
       "    }\n",
       "</style>\n",
       "<table border=\"1\" class=\"dataframe\">\n",
       "  <thead>\n",
       "    <tr style=\"text-align: right;\">\n",
       "      <th></th>\n",
       "      <th>EGID</th>\n",
       "      <th>GKODE</th>\n",
       "      <th>GKODN</th>\n",
       "      <th>GSTAT</th>\n",
       "      <th>GKAT</th>\n",
       "      <th>GWAERZH1</th>\n",
       "      <th>GENH1</th>\n",
       "      <th>GWAERSCEH1</th>\n",
       "      <th>CO2_CLASS</th>\n",
       "      <th>CO2_RANGE</th>\n",
       "      <th>GUE20</th>\n",
       "      <th>GEXPDAT</th>\n",
       "      <th>lat</th>\n",
       "      <th>lon</th>\n",
       "      <th>co2</th>\n",
       "    </tr>\n",
       "  </thead>\n",
       "  <tbody>\n",
       "    <tr>\n",
       "      <th>1515802</th>\n",
       "      <td>11527367</td>\n",
       "      <td>2499308.0</td>\n",
       "      <td>1130106.0</td>\n",
       "      <td>1004</td>\n",
       "      <td>1020</td>\n",
       "      <td>7430.0</td>\n",
       "      <td>7530.0</td>\n",
       "      <td>860.0</td>\n",
       "      <td>7</td>\n",
       "      <td>&gt; 25</td>\n",
       "      <td>1</td>\n",
       "      <td>01.11.2023</td>\n",
       "      <td>46.31479</td>\n",
       "      <td>6.131373</td>\n",
       "      <td>0</td>\n",
       "    </tr>\n",
       "    <tr>\n",
       "      <th>1515803</th>\n",
       "      <td>280002108</td>\n",
       "      <td>2499582.0</td>\n",
       "      <td>1130077.0</td>\n",
       "      <td>1004</td>\n",
       "      <td>1030</td>\n",
       "      <td>NaN</td>\n",
       "      <td>7520.0</td>\n",
       "      <td>NaN</td>\n",
       "      <td>7</td>\n",
       "      <td>&gt; 25</td>\n",
       "      <td>1</td>\n",
       "      <td>01.11.2023</td>\n",
       "      <td>46.31457</td>\n",
       "      <td>6.134935</td>\n",
       "      <td>0</td>\n",
       "    </tr>\n",
       "  </tbody>\n",
       "</table>\n",
       "</div>"
      ],
      "text/plain": [
       "              EGID      GKODE      GKODN  GSTAT  GKAT  GWAERZH1   GENH1  \\\n",
       "1515802   11527367  2499308.0  1130106.0   1004  1020    7430.0  7530.0   \n",
       "1515803  280002108  2499582.0  1130077.0   1004  1030       NaN  7520.0   \n",
       "\n",
       "         GWAERSCEH1  CO2_CLASS CO2_RANGE  GUE20     GEXPDAT       lat  \\\n",
       "1515802       860.0          7      > 25      1  01.11.2023  46.31479   \n",
       "1515803         NaN          7      > 25      1  01.11.2023  46.31457   \n",
       "\n",
       "              lon  co2  \n",
       "1515802  6.131373    0  \n",
       "1515803  6.134935    0  "
      ]
     },
     "execution_count": 19,
     "metadata": {},
     "output_type": "execute_result"
    }
   ],
   "source": [
    "ENERGY_LEVELS = df_geneva['CO2_RANGE'].unique().tolist()\n",
    "\n",
    "df_geneva['lat'] = 0\n",
    "df_geneva['lon'] = 0\n",
    "df_geneva['co2'] = 0\n",
    "\n",
    "for ix, bld in df_geneva.iterrows():\n",
    "    (lon, lat) = transform(pCH, pWorld, bld['GKODE'], bld['GKODN'])\n",
    "    df_geneva['lat'][ix] = lat\n",
    "    df_geneva['lon'][ix] = lon\n",
    "    df_geneva['co2'][ix] = ENERGY_LEVELS.index(bld['CO2_RANGE'])\n",
    "\n",
    "df_geneva.head(2)"
   ]
  },
  {
   "cell_type": "code",
   "execution_count": 20,
   "id": "8e291166-7b59-4a7c-a377-754e1f8708bc",
   "metadata": {},
   "outputs": [],
   "source": [
    "F_GENEVA = os.path.join('data', 'MAPGEO_GEB_CO2_GENEVA.txt')\n",
    "df_geneva.to_csv(F_GENEVA)"
   ]
  }
 ],
 "metadata": {
  "kernelspec": {
   "display_name": "Python 3 (ipykernel)",
   "language": "python",
   "name": "python3"
  },
  "language_info": {
   "codemirror_mode": {
    "name": "ipython",
    "version": 3
   },
   "file_extension": ".py",
   "mimetype": "text/x-python",
   "name": "python",
   "nbconvert_exporter": "python",
   "pygments_lexer": "ipython3",
   "version": "3.11.5"
  }
 },
 "nbformat": 4,
 "nbformat_minor": 5
}
